{
 "cells": [
  {
   "cell_type": "code",
   "execution_count": 1,
   "metadata": {},
   "outputs": [],
   "source": [
    "import Stringio"
   ]
  },
  {
   "cell_type": "code",
   "execution_count": 2,
   "metadata": {},
   "outputs": [
    {
     "data": {
      "text/plain": [
       "172"
      ]
     },
     "execution_count": 2,
     "metadata": {},
     "output_type": "execute_result"
    }
   ],
   "source": [
    "# Use StringIO to capture the docstring\n",
    "\n",
    "from io import StringIO\n",
    "\n",
    "Docstring_Capture = StringIO()\n",
    "Docstring_Capture.write(Stringio.Get_URL.__doc__)"
   ]
  },
  {
   "cell_type": "code",
   "execution_count": 3,
   "metadata": {},
   "outputs": [
    {
     "name": "stdout",
     "output_type": "stream",
     "text": [
      "\n",
      "    Extract URLs from a given string.\n",
      "\n",
      "    Parameters:\n",
      "    - String (str): The string from which to extract URLs.\n",
      "\n",
      "    Returns:\n",
      "    - list: A list of extracted URLs.\n",
      "\n",
      "    \n"
     ]
    }
   ],
   "source": [
    "# To display the captured docstring, use:\n",
    "Captured_Docstring = Docstring_Capture.getvalue()\n",
    "Docstring_Capture.close()  # Close the StringIO object\n",
    "\n",
    "print(Captured_Docstring)  # Print the captured docstring"
   ]
  },
  {
   "cell_type": "code",
   "execution_count": null,
   "metadata": {},
   "outputs": [],
   "source": []
  }
 ],
 "metadata": {
  "kernelspec": {
   "display_name": "Python 3",
   "language": "python",
   "name": "python3"
  },
  "language_info": {
   "codemirror_mode": {
    "name": "ipython",
    "version": 3
   },
   "file_extension": ".py",
   "mimetype": "text/x-python",
   "name": "python",
   "nbconvert_exporter": "python",
   "pygments_lexer": "ipython3",
   "version": "3.11.9"
  }
 },
 "nbformat": 4,
 "nbformat_minor": 2
}
