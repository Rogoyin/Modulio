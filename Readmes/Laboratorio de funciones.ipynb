{
 "cells": [
  {
   "cell_type": "code",
   "execution_count": 7,
   "metadata": {},
   "outputs": [],
   "source": [
    "import Appio as ap\n",
    "import Archivio as ac\n",
    "import Databasio as bd\n",
    "import Datetimio as dt\n",
    "import Dictio as dc\n",
    "import Excelio as ex\n",
    "import Footio as ft\n",
    "import Foragio as fg\n",
    "import Framio as fr\n",
    "import Graphio as gr\n",
    "import Highlightio as hg\n",
    "import Inputio as ip\n",
    "import Listio as ls\n",
    "import Mathio as mt\n",
    "import Notio as nt\n",
    "import Numbio as nb\n",
    "import Numpio as nm\n",
    "import Stringio as st\n",
    "import Timio as tm\n",
    "import Tkintio as tn\n",
    "import Toolio as to"
   ]
  },
  {
   "cell_type": "code",
   "execution_count": 8,
   "metadata": {},
   "outputs": [],
   "source": [
    "import ctypes\n",
    "import time"
   ]
  },
  {
   "cell_type": "code",
   "execution_count": 9,
   "metadata": {},
   "outputs": [],
   "source": [
    "def Check_Screen_On() -> bool:\n",
    "\n",
    "    \"\"\"\n",
    "    Checks if the screen is currently on by using the SystemParametersInfoW function.\n",
    "    \n",
    "    Returns:\n",
    "        bool: True if the screen is on, False otherwise.\n",
    "\n",
    "    \"\"\"\n",
    "\n",
    "    SPI_GETPOWEROFFTIMEOUT = 0x0054\n",
    "    User32 = ctypes.windll.user32\n",
    "    Timeout = ctypes.c_int()\n",
    "    \n",
    "    # Retrieves the power-off timeout setting in seconds.\n",
    "    Result = User32.SystemParametersInfoW(SPI_GETPOWEROFFTIMEOUT, 0, ctypes.byref(Timeout), 0)\n",
    "    \n",
    "    return Timeout.value == 0"
   ]
  },
  {
   "cell_type": "code",
   "execution_count": 10,
   "metadata": {},
   "outputs": [],
   "source": [
    "def Track_Screen_Time():\n",
    "\n",
    "    \"\"\"\n",
    "    Tracks the time the screen remains on and prints the elapsed time once the screen turns off.\n",
    "\n",
    "    \"\"\"\n",
    "\n",
    "    Screen_On_Time = 0\n",
    "    Screen_State = Check_Screen_On()\n",
    "    \n",
    "    Start_Time = time.time()\n",
    "    \n",
    "    print(\"Tracking screen time...\")\n",
    "\n",
    "    try:\n",
    "        while True:\n",
    "            Current_State = Check_Screen_On()\n",
    "            \n",
    "            if Current_State != Screen_State:\n",
    "                Screen_State = Current_State\n",
    "                if not Screen_State:\n",
    "                    Elapsed_Time = time.time() - Start_Time\n",
    "                    Screen_On_Time += Elapsed_Time\n",
    "                    print(f\"Screen turned off. Total time screen was on: {Screen_On_Time / 60:.2f} minutes.\")\n",
    "                    break\n",
    "            time.sleep(1)\n",
    "    except KeyboardInterrupt:\n",
    "        print(\"Tracking stopped.\")"
   ]
  },
  {
   "cell_type": "code",
   "execution_count": 11,
   "metadata": {},
   "outputs": [
    {
     "name": "stdout",
     "output_type": "stream",
     "text": [
      "Tracking screen time...\n",
      "Tracking stopped.\n"
     ]
    }
   ],
   "source": [
    "if __name__ == \"__main__\":\n",
    "    Track_Screen_Time()"
   ]
  },
  {
   "cell_type": "code",
   "execution_count": 12,
   "metadata": {},
   "outputs": [
    {
     "name": "stdout",
     "output_type": "stream",
     "text": [
      "The active program is: ● Laboratorio de funciones.ipynb - Patricionog - Visual Studio Code\n"
     ]
    }
   ],
   "source": [
    "import ctypes\n",
    "import win32gui\n",
    "import pygetwindow as gw\n",
    "\n",
    "def Get_Active_Window_Title() -> str:\n",
    "\n",
    "    \"\"\"\n",
    "    Retrieves the title of the currently active window in Windows.\n",
    "    \n",
    "    Returns:\n",
    "        str: The title of the active window.\n",
    "\n",
    "    \"\"\"\n",
    "\n",
    "    hwnd = win32gui.GetForegroundWindow()  # Get handle of the active window.\n",
    "    Length = win32gui.GetWindowTextLength(hwnd)\n",
    "    Window_Title = win32gui.GetWindowText(hwnd)\n",
    "    return Window_Title\n",
    "\n",
    "def Get_Active_Program_Name() -> str:\n",
    "\n",
    "    \"\"\"\n",
    "    Retrieves the name of the application currently in focus by fetching the window handle.\n",
    "    \n",
    "    Returns:\n",
    "        str: The name of the active application.\n",
    "\n",
    "    \"\"\"\n",
    "\n",
    "    Window_Title = Get_Active_Window_Title()\n",
    "    \n",
    "    if Window_Title:\n",
    "        return Window_Title\n",
    "    else:\n",
    "        return \"No active window.\"\n",
    "\n",
    "if __name__ == \"__main__\":\n",
    "    Active_Program = Get_Active_Program_Name()\n",
    "    print(f\"The active program is: {Active_Program}\")"
   ]
  },
  {
   "cell_type": "code",
   "execution_count": null,
   "metadata": {},
   "outputs": [],
   "source": []
  }
 ],
 "metadata": {
  "kernelspec": {
   "display_name": "Python 3",
   "language": "python",
   "name": "python3"
  },
  "language_info": {
   "codemirror_mode": {
    "name": "ipython",
    "version": 3
   },
   "file_extension": ".py",
   "mimetype": "text/x-python",
   "name": "python",
   "nbconvert_exporter": "python",
   "pygments_lexer": "ipython3",
   "version": "3.11.9"
  }
 },
 "nbformat": 4,
 "nbformat_minor": 2
}
