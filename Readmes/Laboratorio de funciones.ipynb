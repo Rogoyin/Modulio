{
 "cells": [
  {
   "cell_type": "code",
   "execution_count": 3,
   "metadata": {},
   "outputs": [],
   "source": [
    "import Appio as ap\n",
    "import Archivio as ac\n",
    "import Databasio as bd\n",
    "import Datetimio as dt\n",
    "import Dictio as dc\n",
    "import Excelio as ex\n",
    "import Footio as ft\n",
    "import Foragio as fg\n",
    "import Framio as fr\n",
    "import Graphio as gr\n",
    "import Highlightio as hg\n",
    "import Inputio as ip\n",
    "import Listio as ls\n",
    "import Mathio as mt\n",
    "import Notio as nt\n",
    "import Numbio as nb\n",
    "import Numpio as nm\n",
    "import Stringio as st\n",
    "import Timio as tm\n",
    "import Tkintio as tn\n",
    "import Toolio as to"
   ]
  },
  {
   "cell_type": "code",
   "execution_count": null,
   "metadata": {},
   "outputs": [],
   "source": []
  }
 ],
 "metadata": {
  "kernelspec": {
   "display_name": "Python 3",
   "language": "python",
   "name": "python3"
  },
  "language_info": {
   "codemirror_mode": {
    "name": "ipython",
    "version": 3
   },
   "file_extension": ".py",
   "mimetype": "text/x-python",
   "name": "python",
   "nbconvert_exporter": "python",
   "pygments_lexer": "ipython3",
   "version": "3.11.9"
  }
 },
 "nbformat": 4,
 "nbformat_minor": 2
}
